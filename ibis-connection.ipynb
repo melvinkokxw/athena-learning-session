{
 "cells": [
  {
   "cell_type": "code",
   "execution_count": null,
   "id": "bf910f98",
   "metadata": {},
   "outputs": [],
   "source": [
    "import ibis"
   ]
  },
  {
   "cell_type": "code",
   "execution_count": null,
   "id": "0756004b",
   "metadata": {},
   "outputs": [],
   "source": [
    "import os\n",
    "\n",
    "os.environ[\"AWS_ACCESS_KEY_ID\"] = \"\"\n",
    "os.environ[\"AWS_SECRET_ACCESS_KEY\"] = \"\"\n",
    "os.environ[\"AWS_DEFAULT_REGION\"] = \"ap-southeast-1\""
   ]
  },
  {
   "cell_type": "code",
   "execution_count": null,
   "id": "23cd8d21",
   "metadata": {},
   "outputs": [],
   "source": [
    "user_id = \"user_<UPDATE ME>\""
   ]
  },
  {
   "cell_type": "code",
   "execution_count": null,
   "id": "3fa68cb9",
   "metadata": {},
   "outputs": [],
   "source": [
    "con = ibis.athena.connect(s3_staging_dir=\"s3://athena-process/temp/\")"
   ]
  },
  {
   "cell_type": "code",
   "execution_count": null,
   "id": "9e226437",
   "metadata": {},
   "outputs": [],
   "source": [
    "table: ibis.Table = con.table(\"base_table\", database=\"learning-session-db\")"
   ]
  },
  {
   "cell_type": "code",
   "execution_count": null,
   "id": "51c9f85d",
   "metadata": {},
   "outputs": [],
   "source": [
    "\"\"\"\n",
    "SELECT * LIMIT 10 \n",
    "FROM \"learning-session-db\".\"base_table\";\n",
    "\"\"\"\n",
    "\n",
    "table.head().execute()"
   ]
  },
  {
   "cell_type": "code",
   "execution_count": null,
   "id": "0b3d88c2",
   "metadata": {},
   "outputs": [],
   "source": [
    "\"\"\"\n",
    "SELECT id,\n",
    "\tCOUNT(value) AS count_value\n",
    "FROM \"learning-session-db\".\"base_table\"\n",
    "GROUP BY id;\n",
    "\"\"\"\n",
    "\n",
    "aggregated_table = table.group_by(\"id\").aggregate(\n",
    "    table.value.count().name(\"count_value\")\n",
    ")\n",
    "aggregated_table.execute()"
   ]
  },
  {
   "cell_type": "code",
   "execution_count": null,
   "id": "2f9e8a05",
   "metadata": {},
   "outputs": [],
   "source": [
    "\"\"\"\n",
    "CREATE TABLE IF NOT EXISTS \"learning-session-db\".\"new_ibis_table_<user_id>\" WITH(\n",
    "\tpartitioning = ARRAY [ 'bucket(id, 16)' ],\n",
    "\tlocation = 's3://athena-process/learning-session-db/tables/new_ibis_table_<user_id>',\n",
    "\ttable_type = 'ICEBERG',\n",
    "\tis_external = false\n",
    ") AS\n",
    "SELECT id,\n",
    "\tCOUNT(value) AS count_value\n",
    "FROM \"learning-session-db\".\"base_table\"\n",
    "GROUP BY id;\n",
    "\"\"\"\n",
    "\n",
    "con.create_table(\n",
    "    f\"new_ibis_table_{user_id}\",\n",
    "    aggregated_table,\n",
    "    database=\"learning-session-db\",\n",
    "    properties={\n",
    "        \"table_type\": \"ICEBERG\",\n",
    "        \"is_external\": False,\n",
    "        \"location\": f\"s3://athena-process/learning-session-db/tables/new_ibis_table_{user_id}\",\n",
    "    },\n",
    ")\n"
   ]
  },
  {
   "cell_type": "code",
   "execution_count": null,
   "id": "68ff58de",
   "metadata": {},
   "outputs": [],
   "source": [
    "# Verify the table exists\n",
    "con.table(f\"new_ibis_table_{user_id}\", database=\"learning-session-db\").head().execute()"
   ]
  },
  {
   "cell_type": "code",
   "execution_count": null,
   "id": "44692929",
   "metadata": {},
   "outputs": [],
   "source": []
  }
 ],
 "metadata": {
  "kernelspec": {
   "display_name": ".venv",
   "language": "python",
   "name": "python3"
  },
  "language_info": {
   "codemirror_mode": {
    "name": "ipython",
    "version": 3
   },
   "file_extension": ".py",
   "mimetype": "text/x-python",
   "name": "python",
   "nbconvert_exporter": "python",
   "pygments_lexer": "ipython3",
   "version": "3.12.10"
  }
 },
 "nbformat": 4,
 "nbformat_minor": 5
}
